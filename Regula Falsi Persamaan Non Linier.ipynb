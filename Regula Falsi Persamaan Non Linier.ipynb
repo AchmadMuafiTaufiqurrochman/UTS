{
  "nbformat": 4,
  "nbformat_minor": 0,
  "metadata": {
    "colab": {
      "provenance": []
    },
    "kernelspec": {
      "name": "python3",
      "display_name": "Python 3"
    },
    "language_info": {
      "name": "python"
    }
  },
  "cells": [
    {
      "cell_type": "code",
      "execution_count": 3,
      "metadata": {
        "colab": {
          "base_uri": "https://localhost:8080/"
        },
        "id": "fX1npkCoMmMZ",
        "outputId": "6991dfd2-a3ef-466d-b479-2cc5031f6cb8"
      },
      "outputs": [
        {
          "output_type": "stream",
          "name": "stdout",
          "text": [
            "Iterasi ke-1: x = 1.1111111111111112\n",
            "Iterasi ke-2: x = 1.154046997389034\n",
            "Iterasi ke-3: x = 1.1701174623604205\n",
            "Iterasi ke-4: x = 1.1760570246364388\n",
            "Nilai akhir setelah iterasi terakhir: x = 1.1760570246364388\n"
          ]
        }
      ],
      "source": [
        "def fungsi(x):\n",
        "    return 3 * x + x ** 3 - x - 4  # Definisikan fungsi 3x + x^3 - x - 4\n",
        "\n",
        "def regula_falsi(a, b, epsilon, max_iter):\n",
        "    for i in range(max_iter):\n",
        "        if abs(fungsi(a)) < epsilon:\n",
        "            return a\n",
        "        if abs(fungsi(b)) < epsilon:\n",
        "            return b\n",
        "\n",
        "        c = (a * fungsi(b) - b * fungsi(a)) / (fungsi(b) - fungsi(a))\n",
        "\n",
        "        if abs(fungsi(c)) < epsilon:\n",
        "            return c\n",
        "\n",
        "        if fungsi(c) * fungsi(a) < 0:\n",
        "            b = c\n",
        "        else:\n",
        "            a = c\n",
        "\n",
        "        print(f\"Iterasi ke-{i+1}: x = {c}\")\n",
        "\n",
        "    return c\n",
        "\n",
        "# Nilai awal interval [a, b], toleransi epsilon, dan jumlah iterasi maksimum\n",
        "a = 1\n",
        "b = 2\n",
        "epsilon = 1e-8\n",
        "iterasi_maksimum = 4\n",
        "\n",
        "# Memanggil fungsi regula falsi\n",
        "hasil = regula_falsi(a, b, epsilon, iterasi_maksimum)\n",
        "print(f\"Nilai akhir setelah iterasi terakhir: x = {hasil}\")"
      ]
    }
  ]
}