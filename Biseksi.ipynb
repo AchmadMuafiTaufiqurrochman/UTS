{
  "nbformat": 4,
  "nbformat_minor": 0,
  "metadata": {
    "colab": {
      "provenance": [],
      "authorship_tag": "ABX9TyMRvEQci7PzIjzCGY+6FOao",
      "include_colab_link": true
    },
    "kernelspec": {
      "name": "python3",
      "display_name": "Python 3"
    },
    "language_info": {
      "name": "python"
    }
  },
  "cells": [
    {
      "cell_type": "markdown",
      "metadata": {
        "id": "view-in-github",
        "colab_type": "text"
      },
      "source": [
        "<a href=\"https://colab.research.google.com/github/AchmadMuafiTaufiqurrochman/UTS/blob/main/Biseksi.ipynb\" target=\"_parent\"><img src=\"https://colab.research.google.com/assets/colab-badge.svg\" alt=\"Open In Colab\"/></a>"
      ]
    },
    {
      "cell_type": "code",
      "execution_count": 6,
      "metadata": {
        "colab": {
          "base_uri": "https://localhost:8080/"
        },
        "id": "FgD-9JA2POGw",
        "outputId": "eecc8e2e-37ba-4600-9d3e-034acfccf046"
      },
      "outputs": [
        {
          "output_type": "stream",
          "name": "stdout",
          "text": [
            "Persamaan: 2x - 4 = 8\n",
            "Langkah-langkah penyelesaian:\n",
            "Langkah 1: Memindahkan konstanta ke sisi sebelah kanan persamaan\n",
            "2x - 4 = 8\n",
            "2x - 4 + 4 = 8 + 4\n",
            "2x - 4 = 12\n",
            "12 = 12\n",
            "\n",
            "Langkah 2: Isolasi x dengan membagi kedua sisi persamaan dengan koefisien 2\n",
            "x = 12 / 2\n",
            "x = 6.0\n",
            "Jadi, solusi dari persamaan 2x - 4 = 8 adalah x = 6.0\n"
          ]
        }
      ],
      "source": [
        "# Langkah pertama: Memindahkan konstanta ke sisi sebelah kanan persamaan\n",
        "left_side = \"2x - 4\"\n",
        "right_side = \"8\"\n",
        "equation = f\"{left_side} = {right_side}\"\n",
        "\n",
        "print(f\"Persamaan: {equation}\")\n",
        "\n",
        "# Menampilkan langkah-langkah penyelesaian persamaan\n",
        "print(\"Langkah-langkah penyelesaian:\")\n",
        "print(\"Langkah 1: Memindahkan konstanta ke sisi sebelah kanan persamaan\")\n",
        "print(f\"{left_side} = {right_side}\")\n",
        "print(f\"{left_side} + 4 = {right_side} + 4\")\n",
        "print(f\"{left_side} = {int(right_side) + 4}\")\n",
        "left_side = str(int(right_side) + 4)\n",
        "print(f\"{left_side} = {int(left_side)}\")\n",
        "\n",
        "# Langkah kedua: Isolasi x dengan membagi kedua sisi persamaan dengan koefisien 2\n",
        "coefficient = 2\n",
        "x_value = int(left_side) / coefficient\n",
        "\n",
        "print(\"\\nLangkah 2: Isolasi x dengan membagi kedua sisi persamaan dengan koefisien 2\")\n",
        "print(f\"x = {int(left_side)} / {coefficient}\")\n",
        "print(f\"x = {x_value}\")\n",
        "print(f\"Jadi, solusi dari persamaan 2x - 4 = 8 adalah x = {x_value}\")\n"
      ]
    }
  ]
}